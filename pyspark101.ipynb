{
  "nbformat": 4,
  "nbformat_minor": 0,
  "metadata": {
    "colab": {
      "name": "Untitled3.ipynb",
      "provenance": [],
      "authorship_tag": "ABX9TyOXrzksl0jispq2NPrKrImR",
      "include_colab_link": true
    },
    "kernelspec": {
      "name": "python3",
      "display_name": "Python 3"
    },
    "language_info": {
      "name": "python"
    }
  },
  "cells": [
    {
      "cell_type": "markdown",
      "metadata": {
        "id": "view-in-github",
        "colab_type": "text"
      },
      "source": [
        "<a href=\"https://colab.research.google.com/github/denisoon/denisoon/blob/main/pyspark101.ipynb\" target=\"_parent\"><img src=\"https://colab.research.google.com/assets/colab-badge.svg\" alt=\"Open In Colab\"/></a>"
      ]
    },
    {
      "cell_type": "code",
      "execution_count": 1,
      "metadata": {
        "colab": {
          "base_uri": "https://localhost:8080/",
          "height": 0
        },
        "id": "fIWyM5oCmJ8O",
        "outputId": "18d9f6d1-0768-44b8-b88c-fae974c142a2"
      },
      "outputs": [
        {
          "output_type": "stream",
          "name": "stdout",
          "text": [
            "Looking in indexes: https://pypi.org/simple, https://us-python.pkg.dev/colab-wheels/public/simple/\n",
            "Collecting Pyspark\n",
            "  Downloading pyspark-3.2.1.tar.gz (281.4 MB)\n",
            "\u001b[K     |████████████████████████████████| 281.4 MB 35 kB/s \n",
            "\u001b[?25hCollecting py4j==0.10.9.3\n",
            "  Downloading py4j-0.10.9.3-py2.py3-none-any.whl (198 kB)\n",
            "\u001b[K     |████████████████████████████████| 198 kB 52.1 MB/s \n",
            "\u001b[?25hBuilding wheels for collected packages: Pyspark\n",
            "  Building wheel for Pyspark (setup.py) ... \u001b[?25l\u001b[?25hdone\n",
            "  Created wheel for Pyspark: filename=pyspark-3.2.1-py2.py3-none-any.whl size=281853642 sha256=16e0297cfb22eb2e5d035fe805a42e21aa2d82cf4fac1b75c3b2ed998f697009\n",
            "  Stored in directory: /root/.cache/pip/wheels/9f/f5/07/7cd8017084dce4e93e84e92efd1e1d5334db05f2e83bcef74f\n",
            "Successfully built Pyspark\n",
            "Installing collected packages: py4j, Pyspark\n",
            "Successfully installed Pyspark-3.2.1 py4j-0.10.9.3\n"
          ]
        }
      ],
      "source": [
        "!pip install pyspark"
      ]
    },
    {
      "cell_type": "code",
      "source": [
        "import pyspark"
      ],
      "metadata": {
        "id": "-67dciyTmOVc"
      },
      "execution_count": 38,
      "outputs": []
    },
    {
      "cell_type": "code",
      "source": [
        "import pandas as pd\n",
        "pd_read = pd.read_csv('/home/Book1.csv')\n",
        "type(pd_read)\n"
      ],
      "metadata": {
        "colab": {
          "base_uri": "https://localhost:8080/"
        },
        "id": "rkUEwtOvmprO",
        "outputId": "5f625182-e230-4ed3-e9fc-bf1472964afc"
      },
      "execution_count": 73,
      "outputs": [
        {
          "output_type": "execute_result",
          "data": {
            "text/plain": [
              "pandas.core.frame.DataFrame"
            ]
          },
          "metadata": {},
          "execution_count": 73
        }
      ]
    },
    {
      "cell_type": "code",
      "source": [
        "from pyspark.sql import SparkSession"
      ],
      "metadata": {
        "id": "9IqixMCrn5gM"
      },
      "execution_count": 74,
      "outputs": []
    },
    {
      "cell_type": "code",
      "source": [
        "spark = SparkSession.builder.appName('Session1').getOrCreate()\n",
        "spark"
      ],
      "metadata": {
        "colab": {
          "base_uri": "https://localhost:8080/",
          "height": 219
        },
        "id": "zNNzCMbFq6O7",
        "outputId": "20d2667d-99f4-41e0-c526-5fe763b21559"
      },
      "execution_count": 75,
      "outputs": [
        {
          "output_type": "execute_result",
          "data": {
            "text/plain": [
              "<pyspark.sql.session.SparkSession at 0x7fd33885d2d0>"
            ],
            "text/html": [
              "\n",
              "            <div>\n",
              "                <p><b>SparkSession - in-memory</b></p>\n",
              "                \n",
              "        <div>\n",
              "            <p><b>SparkContext</b></p>\n",
              "\n",
              "            <p><a href=\"http://f4ae86e0f1f2:4040\">Spark UI</a></p>\n",
              "\n",
              "            <dl>\n",
              "              <dt>Version</dt>\n",
              "                <dd><code>v3.2.1</code></dd>\n",
              "              <dt>Master</dt>\n",
              "                <dd><code>local[*]</code></dd>\n",
              "              <dt>AppName</dt>\n",
              "                <dd><code>Session1</code></dd>\n",
              "            </dl>\n",
              "        </div>\n",
              "        \n",
              "            </div>\n",
              "        "
            ]
          },
          "metadata": {},
          "execution_count": 75
        }
      ]
    },
    {
      "cell_type": "code",
      "source": [
        "df_pyspark = spark.read.csv('/home/Book1.csv')\n",
        "df_pyspark = spark.read.option('header','true').csv('/home/Book1.csv')"
      ],
      "metadata": {
        "id": "VbGbklcBrx4a"
      },
      "execution_count": 92,
      "outputs": []
    },
    {
      "cell_type": "code",
      "source": [
        "type(df_pyspark)"
      ],
      "metadata": {
        "colab": {
          "base_uri": "https://localhost:8080/"
        },
        "id": "E-xybjtUSRVp",
        "outputId": "057a448f-e54f-4426-d6c6-6e7b7dcff6bd"
      },
      "execution_count": 93,
      "outputs": [
        {
          "output_type": "execute_result",
          "data": {
            "text/plain": [
              "pyspark.sql.dataframe.DataFrame"
            ]
          },
          "metadata": {},
          "execution_count": 93
        }
      ]
    },
    {
      "cell_type": "code",
      "source": [
        "df_pyspark.show()"
      ],
      "metadata": {
        "colab": {
          "base_uri": "https://localhost:8080/"
        },
        "id": "kw7_ngYlSz3t",
        "outputId": "7beeb87b-48b0-4409-a014-4483aca9ee03"
      },
      "execution_count": 94,
      "outputs": [
        {
          "output_type": "stream",
          "name": "stdout",
          "text": [
            "+------------------+----------+----------+----------+----------+\n",
            "|     Acct Managers|      Qtr1|      Qtr2|      Qtr3|      Qtr4|\n",
            "+------------------+----------+----------+----------+----------+\n",
            "|       Aanya Zhang| $5,187.90| $7,627.17|$28,867.26|   $742.53|\n",
            "|       Charlie Bui|$24,271.31|   $130.78|   $116.61|   $355.15|\n",
            "|      Connor Betts|   $854.08|$20,123.65| $3,050.18| $4,373.98|\n",
            "|  Leighton Forrest|   $815.58| $1,129.69|   $327.02|$16,169.12|\n",
            "|       Mihael Khan|   $425.78|   $981.27|   $596.70|   $470.74|\n",
            "|      Natasha Song| $5,080.74| $6,259.31| $4,265.86| $4,956.43|\n",
            "|Nicholas Fernandes|$21,787.86| $1,533.62| $2,191.42| $2,384.04|\n",
            "|       Phoebe Gour| $5,117.84|$12,156.60|   $351.06|$15,653.93|\n",
            "|    Preston Senome| $1,326.07| $1,415.98| $2,314.11| $2,817.60|\n",
            "|    Radhya Staples|     $0.00|     $3.32|$10,373.59|   $206.16|\n",
            "|   Samantha Chairs| $2,233.62| $2,005.70| $1,542.68| $4,921.92|\n",
            "|     Stevie Bacata|     $0.00|    $91.10|     $0.00|     $0.00|\n",
            "|      Tina Carlton|$17,247.36| $2,512.24| $7,003.82| $2,952.73|\n",
            "|       Yvette Biti| $2,252.16| $1,476.92| $3,293.39| $7,731.78|\n",
            "+------------------+----------+----------+----------+----------+\n",
            "\n"
          ]
        }
      ]
    },
    {
      "cell_type": "code",
      "source": [
        ""
      ],
      "metadata": {
        "id": "ZiIUB3nLdazU"
      },
      "execution_count": null,
      "outputs": []
    }
  ]
}